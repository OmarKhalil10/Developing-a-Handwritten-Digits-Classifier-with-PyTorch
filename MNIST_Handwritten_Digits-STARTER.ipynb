{
 "cells": [
  {
   "cell_type": "markdown",
   "metadata": {},
   "source": [
    "# Introduction\n",
    "\n",
    "In this project, you will build a neural network of your own design to evaluate the MNIST dataset.\n",
    "\n",
    "Some of the benchmark results on MNIST include can be found [on Yann LeCun's page](http://yann.lecun.com/exdb/mnist/) and include:\n",
    "\n",
    "88% [Lecun et al., 1998](http://yann.lecun.com/exdb/publis/pdf/lecun-98.pdf)\n",
    "95.3% [Lecun et al., 1998](http://yann.lecun.com/exdb/publis/pdf/lecun-98.pdf)\n",
    "99.65% [Ciresan et al., 2011](http://people.idsia.ch/~juergen/ijcai2011.pdf)\n",
    "\n",
    "MNIST is a great dataset for sanity checking your models, since the accuracy levels achieved by large convolutional neural networks and small linear models are both quite high. This makes it important to be familiar with the data.\n",
    "\n",
    "## Imports"
   ]
  },
  {
   "cell_type": "code",
   "execution_count": 1,
   "metadata": {},
   "outputs": [],
   "source": [
    "## This cell contains the essential imports you will need – DO NOT CHANGE THE CONTENTS! ##\n",
    "import torch\n",
    "import torch.nn as nn\n",
    "import torch.nn.functional as F\n",
    "import torch.optim as optim\n",
    "import torchvision\n",
    "import torchvision.transforms as transforms\n",
    "import matplotlib.pyplot as plt\n",
    "import numpy as np"
   ]
  },
  {
   "cell_type": "code",
   "execution_count": 2,
   "metadata": {},
   "outputs": [
    {
     "name": "stdout",
     "output_type": "stream",
     "text": [
      "Defaulting to user installation because normal site-packages is not writeable\n",
      "Requirement already satisfied: ipywidgets in /root/.local/lib/python3.7/site-packages (8.0.7)\n",
      "Requirement already satisfied: widgetsnbextension~=4.0.7 in /root/.local/lib/python3.7/site-packages (from ipywidgets) (4.0.8)\n",
      "Requirement already satisfied: ipython>=6.1.0 in /opt/conda/lib/python3.7/site-packages (from ipywidgets) (7.13.0)\n",
      "Requirement already satisfied: traitlets>=4.3.1 in /opt/conda/lib/python3.7/site-packages (from ipywidgets) (4.3.3)\n",
      "Requirement already satisfied: ipykernel>=4.5.1 in /opt/conda/lib/python3.7/site-packages (from ipywidgets) (5.1.4)\n",
      "Requirement already satisfied: jupyterlab-widgets~=3.0.7 in /root/.local/lib/python3.7/site-packages (from ipywidgets) (3.0.8)\n",
      "Requirement already satisfied: setuptools>=18.5 in /opt/conda/lib/python3.7/site-packages (from ipython>=6.1.0->ipywidgets) (45.2.0.post20200209)\n",
      "Requirement already satisfied: pickleshare in /opt/conda/lib/python3.7/site-packages (from ipython>=6.1.0->ipywidgets) (0.7.5)\n",
      "Requirement already satisfied: pexpect; sys_platform != \"win32\" in /opt/conda/lib/python3.7/site-packages (from ipython>=6.1.0->ipywidgets) (4.8.0)\n",
      "Requirement already satisfied: pygments in /opt/conda/lib/python3.7/site-packages (from ipython>=6.1.0->ipywidgets) (2.5.2)\n",
      "Requirement already satisfied: prompt-toolkit!=3.0.0,!=3.0.1,<3.1.0,>=2.0.0 in /opt/conda/lib/python3.7/site-packages (from ipython>=6.1.0->ipywidgets) (3.0.3)\n",
      "Requirement already satisfied: decorator in /opt/conda/lib/python3.7/site-packages (from ipython>=6.1.0->ipywidgets) (4.4.2)\n",
      "Requirement already satisfied: backcall in /opt/conda/lib/python3.7/site-packages (from ipython>=6.1.0->ipywidgets) (0.1.0)\n",
      "Requirement already satisfied: jedi>=0.10 in /opt/conda/lib/python3.7/site-packages (from ipython>=6.1.0->ipywidgets) (0.16.0)\n",
      "Requirement already satisfied: ipython-genutils in /opt/conda/lib/python3.7/site-packages (from traitlets>=4.3.1->ipywidgets) (0.2.0)\n",
      "Requirement already satisfied: six in /opt/conda/lib/python3.7/site-packages (from traitlets>=4.3.1->ipywidgets) (1.16.0)\n",
      "Requirement already satisfied: jupyter-client in /opt/conda/lib/python3.7/site-packages (from ipykernel>=4.5.1->ipywidgets) (6.0.0)\n",
      "Requirement already satisfied: tornado>=4.2 in /opt/conda/lib/python3.7/site-packages (from ipykernel>=4.5.1->ipywidgets) (5.1.1)\n",
      "Requirement already satisfied: ptyprocess>=0.5 in /opt/conda/lib/python3.7/site-packages (from pexpect; sys_platform != \"win32\"->ipython>=6.1.0->ipywidgets) (0.6.0)\n",
      "Requirement already satisfied: wcwidth in /opt/conda/lib/python3.7/site-packages (from prompt-toolkit!=3.0.0,!=3.0.1,<3.1.0,>=2.0.0->ipython>=6.1.0->ipywidgets) (0.1.8)\n",
      "Requirement already satisfied: parso>=0.5.2 in /opt/conda/lib/python3.7/site-packages (from jedi>=0.10->ipython>=6.1.0->ipywidgets) (0.6.1)\n",
      "Requirement already satisfied: pyzmq>=13 in /opt/conda/lib/python3.7/site-packages (from jupyter-client->ipykernel>=4.5.1->ipywidgets) (19.0.0)\n",
      "Requirement already satisfied: jupyter-core>=4.6.0 in /opt/conda/lib/python3.7/site-packages (from jupyter-client->ipykernel>=4.5.1->ipywidgets) (4.6.3)\n",
      "Requirement already satisfied: python-dateutil>=2.1 in /opt/conda/lib/python3.7/site-packages (from jupyter-client->ipykernel>=4.5.1->ipywidgets) (2.8.1)\n",
      "Note: you may need to restart the kernel to use updated packages.\n"
     ]
    }
   ],
   "source": [
    "pip install ipywidgets"
   ]
  },
  {
   "cell_type": "markdown",
   "metadata": {},
   "source": [
    "## Load the Dataset\n",
    "\n",
    "Specify your transforms as a list if you intend to .\n",
    "The transforms module is already loaded as `transforms`.\n",
    "\n",
    "MNIST is fortunately included in the torchvision module.\n",
    "Then, you can create your dataset using the `MNIST` object from `torchvision.datasets` ([the documentation is available here](https://pytorch.org/vision/stable/datasets.html#mnist)).\n",
    "Make sure to specify `download=True`! \n",
    "\n",
    "Once your dataset is created, you'll also need to define a `DataLoader` from the `torch.utils.data` module for both the train and the test set."
   ]
  },
  {
   "cell_type": "code",
   "execution_count": 3,
   "metadata": {},
   "outputs": [
    {
     "name": "stderr",
     "output_type": "stream",
     "text": [
      "/opt/conda/lib/python3.7/site-packages/torchvision/datasets/mnist.py:498: UserWarning: The given NumPy array is not writable, and PyTorch does not support non-writable tensors. This means writing to this tensor will result in undefined behavior. You may want to copy the array to protect its data or make it writable before converting it to a tensor. This type of warning will be suppressed for the rest of this program. (Triggered internally at  ../torch/csrc/utils/tensor_numpy.cpp:178.)\n",
      "  return torch.from_numpy(parsed.astype(m[2], copy=False)).view(*s)\n"
     ]
    }
   ],
   "source": [
    "from torchvision import datasets\n",
    "\n",
    "# Number of subprocesses to use for data loading\n",
    "num_workers = 0\n",
    "# Number of samples per batch to load\n",
    "batch_size = 64\n",
    "\n",
    "# Define transforms\n",
    "transform = transforms.ToTensor()\n",
    "\n",
    "# Create training set and define training dataloader\n",
    "# choose the training and test datasets\n",
    "train_data = datasets.MNIST(root='data', train=True, download=True, transform=transform)\n",
    "train_loader = torch.utils.data.DataLoader(train_data, batch_size=batch_size, num_workers=num_workers)\n",
    "\n",
    "# Create test set and define test dataloader\n",
    "test_data = datasets.MNIST(root='data', train=False, download=True, transform=transform)\n",
    "test_loader = torch.utils.data.DataLoader(test_data, batch_size=batch_size, num_workers=num_workers)"
   ]
  },
  {
   "cell_type": "markdown",
   "metadata": {},
   "source": [
    "## Justify your preprocessing\n",
    "**DOUBLE CLICK THIS CELL TO MODIFY**\n",
    "\n",
    "\n",
    "In your own words, why did you choose the transforms you chose? If you didn't use any preprocessing steps, why not?\n",
    "\n",
    "---\n",
    "\n",
    "The preprocessing steps I chose for the MNIST dataset include converting the images to tensors.\n",
    "\n",
    "**Converting to Tensors**: The original MNIST dataset consists of grayscale images represented as pixel values ranging from 0 to 255. To work with these images in PyTorch, it is necessary to convert them to tensors. Tensors are the primary data structure in PyTorch, allowing efficient computation on GPUs. Converting the images to tensors facilitates seamless integration with PyTorch's tensor-based operations and deep learning models."
   ]
  },
  {
   "cell_type": "markdown",
   "metadata": {},
   "source": [
    "## Explore the Dataset\n",
    "Using matplotlib, numpy, and torch, explore the dimensions of your data.\n",
    "\n",
    "You can view images using the `show5` function defined below – it takes a data loader as an argument.\n",
    "Remember that normalized images will look really weird to you! You may want to try changing your transforms to view images.\n",
    "Typically using no transforms other than `toTensor()` works well for viewing – but not as well for training your network.\n",
    "If `show5` doesn't work, go back and check your code for creating your data loaders and your training/test sets."
   ]
  },
  {
   "cell_type": "code",
   "execution_count": 4,
   "metadata": {},
   "outputs": [],
   "source": [
    "## This cell contains a function for showing 5 images from a dataloader – DO NOT CHANGE THE CONTENTS! ##\n",
    "def show5(img_loader):\n",
    "    dataiter = iter(img_loader)\n",
    "    \n",
    "    batch = next(dataiter)\n",
    "    labels = batch[1][0:5]\n",
    "    images = batch[0][0:5]\n",
    "    for i in range(5):\n",
    "        print(int(labels[i].detach()))\n",
    "    \n",
    "        image = images[i].numpy()\n",
    "        plt.imshow(image.T.squeeze().T)\n",
    "        plt.show()"
   ]
  },
  {
   "cell_type": "code",
   "execution_count": 5,
   "metadata": {},
   "outputs": [
    {
     "name": "stdout",
     "output_type": "stream",
     "text": [
      "Training data dimensions: torch.Size([60000, 28, 28])\n",
      "Test data dimensions: torch.Size([10000, 28, 28])\n",
      "7\n"
     ]
    },
    {
     "data": {
      "image/png": "[encoded data removed]",
      "text/plain": [
       "<Figure size 432x288 with 1 Axes>"
      ]
     },
     "metadata": {
      "needs_background": "light"
     },
     "output_type": "display_data"
    },
    {
     "name": "stdout",
     "output_type": "stream",
     "text": [
      "2\n"
     ]
    },
    {
     "data": {
      "image/png": "[encoded data removed]",
      "text/plain": [
       "<Figure size 432x288 with 1 Axes>"
      ]
     },
     "metadata": {
      "needs_background": "light"
     },
     "output_type": "display_data"
    },
    {
     "name": "stdout",
     "output_type": "stream",
     "text": [
      "1\n"
     ]
    },
    {
     "data": {
      "image/png": "[encoded data removed]",
      "text/plain": [
       "<Figure size 432x288 with 1 Axes>"
      ]
     },
     "metadata": {
      "needs_background": "light"
     },
     "output_type": "display_data"
    },
    {
     "name": "stdout",
     "output_type": "stream",
     "text": [
      "0\n"
     ]
    },
    {
     "data": {
      "image/png": "[encoded data removed]",
      "text/plain": [
       "<Figure size 432x288 with 1 Axes>"
      ]
     },
     "metadata": {
      "needs_background": "light"
     },
     "output_type": "display_data"
    },
    {
     "name": "stdout",
     "output_type": "stream",
     "text": [
      "4\n"
     ]
    },
    {
     "data": {
      "image/png": "[encoded data removed]",
      "text/plain": [
       "<Figure size 432x288 with 1 Axes>"
      ]
     },
     "metadata": {
      "needs_background": "light"
     },
     "output_type": "display_data"
    }
   ],
   "source": [
    "# Explore data\n",
    "# Dimensions of the data\n",
    "print(\"Training data dimensions:\", train_data.data.shape)\n",
    "print(\"Test data dimensions:\", test_data.data.shape)\n",
    "\n",
    "# Show 5 images from the training set\n",
    "show5(test_loader)"
   ]
  },
  {
   "cell_type": "markdown",
   "metadata": {},
   "source": [
    "## Build your Neural Network\n",
    "Using the layers in `torch.nn` (which has been imported as `nn`) and the `torch.nn.functional` module (imported as `F`), construct a neural network based on the parameters of the dataset.\n",
    "Use any architecture you like. \n",
    "\n",
    "*Note*: If you did not flatten your tensors in your transforms or as part of your preprocessing and you are using only `Linear` layers, make sure to use the `Flatten` layer in your network!"
   ]
  },
  {
   "cell_type": "code",
   "execution_count": 41,
   "metadata": {},
   "outputs": [
    {
     "name": "stdout",
     "output_type": "stream",
     "text": [
      "CustomNetwork(\n",
      "  (fc1): Linear(in_features=784, out_features=512, bias=True)\n",
      "  (fc2): Linear(in_features=512, out_features=512, bias=True)\n",
      "  (fc3): Linear(in_features=512, out_features=10, bias=True)\n",
      "  (dropout): Dropout(p=0.2, inplace=False)\n",
      ")\n"
     ]
    }
   ],
   "source": [
    "## YOUR CODE HERE ##\n",
    "class CustomNetwork(nn.Module):\n",
    "    \"\"\"Custom neural network architecture for image classification.\n",
    "\n",
    "    This network consists of three fully connected layers with dropout for regularization.\n",
    "    The input size is expected to be 28x28 pixels.\n",
    "    \"\"\"\n",
    "\n",
    "    def __init__(self):\n",
    "        super(CustomNetwork, self).__init__()\n",
    "\n",
    "        # Define the layers of the neural network\n",
    "        self.fc1 = nn.Linear(28 * 28, 512)\n",
    "        self.fc2 = nn.Linear(512, 512)\n",
    "        self.fc3 = nn.Linear(512, 10)\n",
    "        self.dropout = nn.Dropout(0.2)\n",
    "\n",
    "    def forward(self, x):\n",
    "        \"\"\"Defines the forward pass of the neural network.\n",
    "\n",
    "        Args:\n",
    "            x (torch.Tensor): Input tensor of shape (batch_size, 1, 28, 28).\n",
    "\n",
    "        Returns:\n",
    "            torch.Tensor: Output tensor of shape (batch_size, 10) representing class scores.\n",
    "        \"\"\"\n",
    "        x = x.view(-1, 28 * 28)\n",
    "        x = F.relu(self.fc1(x))\n",
    "        x = self.dropout(x)\n",
    "        x = F.relu(self.fc2(x))\n",
    "        x = self.dropout(x)\n",
    "        x = self.fc3(x)\n",
    "        return x\n",
    "\n",
    "# Create an instance of the network\n",
    "model = CustomNetwork()\n",
    "print(model)"
   ]
  },
  {
   "cell_type": "markdown",
   "metadata": {},
   "source": [
    "Specify a loss function and an optimizer, and instantiate the model.\n",
    "\n",
    "If you use a less common loss function, please note why you chose that loss function in a comment."
   ]
  },
  {
   "cell_type": "code",
   "execution_count": 42,
   "metadata": {},
   "outputs": [],
   "source": [
    "## YOUR CODE HERE ##\n",
    "\n",
    "# Define the loss function\n",
    "criterion = nn.CrossEntropyLoss()\n",
    "\n",
    "# Define the optimizer\n",
    "optimizer = optim.SGD(model.parameters(), lr=0.01, momentum=0.9)"
   ]
  },
  {
   "cell_type": "markdown",
   "metadata": {},
   "source": [
    "## Running your Neural Network\n",
    "Use whatever method you like to train your neural network, and ensure you record the average loss at each epoch. \n",
    "Don't forget to use `torch.device()` and the `.to()` method for both your model and your data if you are using GPU!\n",
    "\n",
    "If you want to print your loss **during** each epoch, you can use the `enumerate` function and print the loss after a set number of batches. 250 batches works well for most people!"
   ]
  },
  {
   "cell_type": "code",
   "execution_count": 43,
   "metadata": {},
   "outputs": [
    {
     "name": "stdout",
     "output_type": "stream",
     "text": [
      "Epoch [1/20], Batch [250/938], Loss: 1.0955\n",
      "Epoch [1/20], Batch [500/938], Loss: 0.3800\n",
      "Epoch [1/20], Batch [750/938], Loss: 0.3114\n",
      "Epoch [2/20], Batch [250/938], Loss: 0.2315\n",
      "Epoch [2/20], Batch [500/938], Loss: 0.1915\n",
      "Epoch [2/20], Batch [750/938], Loss: 0.1863\n",
      "Epoch [3/20], Batch [250/938], Loss: 0.1488\n",
      "Epoch [3/20], Batch [500/938], Loss: 0.1335\n",
      "Epoch [3/20], Batch [750/938], Loss: 0.1354\n",
      "Epoch [4/20], Batch [250/938], Loss: 0.1106\n",
      "Epoch [4/20], Batch [500/938], Loss: 0.1023\n",
      "Epoch [4/20], Batch [750/938], Loss: 0.1067\n",
      "Epoch [5/20], Batch [250/938], Loss: 0.0867\n",
      "Epoch [5/20], Batch [500/938], Loss: 0.0817\n",
      "Epoch [5/20], Batch [750/938], Loss: 0.0856\n",
      "Epoch [6/20], Batch [250/938], Loss: 0.0716\n",
      "Epoch [6/20], Batch [500/938], Loss: 0.0684\n",
      "Epoch [6/20], Batch [750/938], Loss: 0.0719\n",
      "Epoch [7/20], Batch [250/938], Loss: 0.0603\n",
      "Epoch [7/20], Batch [500/938], Loss: 0.0588\n",
      "Epoch [7/20], Batch [750/938], Loss: 0.0611\n",
      "Epoch [8/20], Batch [250/938], Loss: 0.0508\n",
      "Epoch [8/20], Batch [500/938], Loss: 0.0492\n",
      "Epoch [8/20], Batch [750/938], Loss: 0.0528\n",
      "Epoch [9/20], Batch [250/938], Loss: 0.0434\n",
      "Epoch [9/20], Batch [500/938], Loss: 0.0428\n",
      "Epoch [9/20], Batch [750/938], Loss: 0.0478\n",
      "Epoch [10/20], Batch [250/938], Loss: 0.0388\n",
      "Epoch [10/20], Batch [500/938], Loss: 0.0390\n",
      "Epoch [10/20], Batch [750/938], Loss: 0.0419\n",
      "Epoch [11/20], Batch [250/938], Loss: 0.0330\n",
      "Epoch [11/20], Batch [500/938], Loss: 0.0351\n",
      "Epoch [11/20], Batch [750/938], Loss: 0.0356\n",
      "Epoch [12/20], Batch [250/938], Loss: 0.0305\n",
      "Epoch [12/20], Batch [500/938], Loss: 0.0294\n",
      "Epoch [12/20], Batch [750/938], Loss: 0.0338\n",
      "Epoch [13/20], Batch [250/938], Loss: 0.0279\n",
      "Epoch [13/20], Batch [500/938], Loss: 0.0271\n",
      "Epoch [13/20], Batch [750/938], Loss: 0.0312\n",
      "Epoch [14/20], Batch [250/938], Loss: 0.0249\n",
      "Epoch [14/20], Batch [500/938], Loss: 0.0249\n",
      "Epoch [14/20], Batch [750/938], Loss: 0.0275\n",
      "Epoch [15/20], Batch [250/938], Loss: 0.0222\n",
      "Epoch [15/20], Batch [500/938], Loss: 0.0209\n",
      "Epoch [15/20], Batch [750/938], Loss: 0.0253\n",
      "Epoch [16/20], Batch [250/938], Loss: 0.0218\n",
      "Epoch [16/20], Batch [500/938], Loss: 0.0210\n",
      "Epoch [16/20], Batch [750/938], Loss: 0.0225\n",
      "Epoch [17/20], Batch [250/938], Loss: 0.0174\n",
      "Epoch [17/20], Batch [500/938], Loss: 0.0181\n",
      "Epoch [17/20], Batch [750/938], Loss: 0.0183\n",
      "Epoch [18/20], Batch [250/938], Loss: 0.0155\n",
      "Epoch [18/20], Batch [500/938], Loss: 0.0153\n",
      "Epoch [18/20], Batch [750/938], Loss: 0.0165\n",
      "Epoch [19/20], Batch [250/938], Loss: 0.0159\n",
      "Epoch [19/20], Batch [500/938], Loss: 0.0157\n",
      "Epoch [19/20], Batch [750/938], Loss: 0.0153\n",
      "Epoch [20/20], Batch [250/938], Loss: 0.0143\n",
      "Epoch [20/20], Batch [500/938], Loss: 0.0141\n",
      "Epoch [20/20], Batch [750/938], Loss: 0.0151\n",
      "Training completed!\n"
     ]
    }
   ],
   "source": [
    "## YOUR CODE HERE ##\n",
    "\n",
    "# Define the device (GPU or CPU)\n",
    "device = torch.device(\"cuda\" if torch.cuda.is_available() else \"cpu\")\n",
    "\n",
    "# Move the model to the device\n",
    "model = model.to(device)\n",
    "\n",
    "# Training loop\n",
    "num_epochs = 20\n",
    "print_freq = 250\n",
    "total_loss = 0\n",
    "total_batches = 0\n",
    "train_loss_list = []  # Initialize a list to store training loss\n",
    "\n",
    "for epoch in range(num_epochs):\n",
    "    for i, (inputs, labels) in enumerate(train_loader):\n",
    "        inputs = inputs.to(device)\n",
    "        labels = labels.to(device)\n",
    "\n",
    "        # Zero the gradients\n",
    "        optimizer.zero_grad()\n",
    "\n",
    "        # Forward pass\n",
    "        outputs = model(inputs)\n",
    "        loss = criterion(outputs, labels)\n",
    "\n",
    "        # Backward pass and optimization\n",
    "        loss.backward()\n",
    "        optimizer.step()\n",
    "\n",
    "        # Record the loss\n",
    "        total_loss += loss.item()\n",
    "        total_batches += 1\n",
    "\n",
    "        # Print loss at specified intervals\n",
    "        if (i + 1) % print_freq == 0:\n",
    "            avg_loss = total_loss / total_batches\n",
    "            print(f\"Epoch [{epoch + 1}/{num_epochs}], Batch [{i + 1}/{len(train_loader)}], Loss: {avg_loss:.4f}\")\n",
    "            total_loss = 0\n",
    "            total_batches = 0\n",
    "\n",
    "            train_loss_list.append(avg_loss)  # Append the training loss to the list\n",
    "\n",
    "print(\"Training completed!\")"
   ]
  },
  {
   "cell_type": "markdown",
   "metadata": {},
   "source": [
    "Plot the training loss (and validation loss/accuracy, if recorded)."
   ]
  },
  {
   "cell_type": "code",
   "execution_count": 44,
   "metadata": {},
   "outputs": [
    {
     "data": {
      "image/png": "[encoded data removed]",
      "text/plain": [
       "<Figure size 432x288 with 1 Axes>"
      ]
     },
     "metadata": {
      "needs_background": "light"
     },
     "output_type": "display_data"
    }
   ],
   "source": [
    "## YOUR CODE HERE ##\n",
    "\n",
    "# Plotting the training loss\n",
    "epochs = range(1, len(train_loss_list) + 1)  # Use the length of train_loss_list for the range\n",
    "\n",
    "plt.plot(epochs, train_loss_list, label='Training Loss')  # Plot the training loss values\n",
    "plt.xlabel('Epochs')  # Set the label for the x-axis\n",
    "plt.ylabel('Loss')  # Set the label for the y-axis\n",
    "plt.title('Training Loss')  # Set the title of the plot\n",
    "plt.legend()  # Display the legend\n",
    "plt.grid(True)  # Display grid lines\n",
    "plt.tight_layout()  # Adjust the spacing of the plot\n",
    "plt.show()  # Show the plot"
   ]
  },
  {
   "cell_type": "markdown",
   "metadata": {},
   "source": [
    "## Testing your model\n",
    "Using the previously created `DataLoader` for the test set, compute the percentage of correct predictions using the highest probability prediction. \n",
    "\n",
    "If your accuracy is over 90%, great work, but see if you can push a bit further! \n",
    "If your accuracy is under 90%, you'll need to make improvements.\n",
    "Go back and check your model architecture, loss function, and optimizer to make sure they're appropriate for an image classification task."
   ]
  },
  {
   "cell_type": "code",
   "execution_count": 45,
   "metadata": {},
   "outputs": [
    {
     "name": "stdout",
     "output_type": "stream",
     "text": [
      "Test Loss: 0.057167\n",
      "\n",
      "Test Accuracy of 0: 99.49% (975/980)\n",
      "Test Accuracy of 1: 99.47% (1129/1135)\n",
      "Test Accuracy of 2: 97.97% (1011/1032)\n",
      "Test Accuracy of 3: 97.82% (988/1010)\n",
      "Test Accuracy of 4: 97.76% (960/982)\n",
      "Test Accuracy of 5: 98.21% (876/892)\n",
      "Test Accuracy of 6: 98.43% (943/958)\n",
      "Test Accuracy of 7: 98.05% (1008/1028)\n",
      "Test Accuracy of 8: 97.95% (954/974)\n",
      "Test Accuracy of 9: 98.41% (993/1009)\n",
      "\n",
      "Test Accuracy (Overall): 98.37% (9837/10000)\n"
     ]
    }
   ],
   "source": [
    "## YOUR CODE HERE ##\n",
    "\n",
    "# Initialize variables to monitor test loss and accuracy\n",
    "test_loss = 0.0\n",
    "correct = 0\n",
    "total = 0\n",
    "class_correct = [0] * 10\n",
    "class_total = [0] * 10\n",
    "\n",
    "model.eval()  # Set the model to evaluation mode\n",
    "\n",
    "# Disable gradient calculation and enable faster computation\n",
    "with torch.no_grad():\n",
    "    for data, target in test_loader:\n",
    "        data = data.to(device)\n",
    "        target = target.to(device)\n",
    "\n",
    "        # Forward pass: compute predicted outputs by passing inputs to the model\n",
    "        output = model(data)\n",
    "\n",
    "        # Calculate the loss\n",
    "        loss = criterion(output, target)\n",
    "\n",
    "        # Update test loss\n",
    "        test_loss += loss.item() * data.size(0)\n",
    "\n",
    "        # Convert output probabilities to predicted class\n",
    "        _, predicted = torch.max(output, 1)\n",
    "\n",
    "        # Update total examples and correct predictions\n",
    "        total += target.size(0)\n",
    "        correct += (predicted == target).sum().item()\n",
    "\n",
    "        # Calculate test accuracy for each object class\n",
    "        for i in range(target.size(0)):\n",
    "            label = target[i]\n",
    "            class_correct[label] += (predicted[i] == label).item()\n",
    "            class_total[label] += 1\n",
    "\n",
    "# Calculate and print average test loss\n",
    "test_loss /= total\n",
    "print(f\"Test Loss: {test_loss:.6f}\\n\")\n",
    "\n",
    "# Print test accuracy for each object class\n",
    "for i in range(10):\n",
    "    if class_total[i] > 0:\n",
    "        accuracy = 100 * class_correct[i] / class_total[i]\n",
    "        print(f\"Test Accuracy of {i}: {accuracy:.2f}% ({class_correct[i]}/{class_total[i]})\")\n",
    "    else:\n",
    "        print(f\"Test Accuracy of {i}: N/A (no training examples)\")\n",
    "\n",
    "# Print overall test accuracy\n",
    "overall_accuracy = 100 * correct / total\n",
    "print(f\"\\nTest Accuracy (Overall): {overall_accuracy:.2f}% ({correct}/{total})\")"
   ]
  },
  {
   "cell_type": "markdown",
   "metadata": {},
   "source": [
    "## Saving your model\n",
    "Using `torch.save`, save your model for future loading."
   ]
  },
  {
   "cell_type": "code",
   "execution_count": 48,
   "metadata": {},
   "outputs": [
    {
     "name": "stdout",
     "output_type": "stream",
     "text": [
      "Model saved successfully.\n"
     ]
    }
   ],
   "source": [
    "# Specify the file path for saving the model\n",
    "model_path = 'model_1.pt'\n",
    "\n",
    "# Save the model state dictionary and other necessary information\n",
    "torch.save({\n",
    "    'model_state_dict': model.state_dict(),\n",
    "    'optimizer_state_dict': optimizer.state_dict(),\n",
    "    'train_loss_list': train_loss_list\n",
    "}, model_path)\n",
    "\n",
    "print(\"Model saved successfully.\")"
   ]
  },
  {
   "cell_type": "markdown",
   "metadata": {},
   "source": [
    "## Visualizes sample test results with predicted labels and ground-truth labels."
   ]
  },
  {
   "cell_type": "code",
   "execution_count": 138,
   "metadata": {},
   "outputs": [],
   "source": [
    "import matplotlib.pyplot as plt\n",
    "\n",
    "def visualize_sample_results(model, test_loader, device):\n",
    "    \"\"\"\n",
    "    Visualizes sample test results with predicted labels and ground-truth labels.\n",
    "\n",
    "    Args:\n",
    "        model (nn.Module): The trained model.\n",
    "        test_loader (DataLoader): DataLoader for the test dataset.\n",
    "        device (torch.device): Device (GPU or CPU) to use for inference.\n",
    "\n",
    "    Returns:\n",
    "        None\n",
    "    \"\"\"\n",
    "\n",
    "    # Set the model to evaluation mode\n",
    "    model.eval()\n",
    "\n",
    "    # Initialize the figure\n",
    "    fig = plt.figure(figsize=(12, 8))\n",
    "\n",
    "    # Iterate over the test dataset\n",
    "    for i, (inputs, labels) in enumerate(test_loader):\n",
    "        inputs = inputs.to(device)\n",
    "        labels = labels.to(device)\n",
    "\n",
    "        # Forward pass\n",
    "        outputs = model(inputs)\n",
    "        _, preds = torch.max(outputs, 1)\n",
    "\n",
    "        # Convert to numpy arrays\n",
    "        inputs = inputs.cpu().numpy()\n",
    "        preds = preds.cpu().numpy()\n",
    "        labels = labels.cpu().numpy()\n",
    "\n",
    "        # Plot the images\n",
    "        for j in range(15):\n",
    "            ax = plt.subplot(3, 5, j + 1)\n",
    "            ax.axis(\"off\")\n",
    "            ax.imshow(inputs[j].squeeze(), cmap=\"gray\")\n",
    "\n",
    "            # Set the label color based on the prediction accuracy\n",
    "            if preds[j] == labels[j]:\n",
    "                label_color = \"red\"\n",
    "            else:\n",
    "                label_color = \"black\"\n",
    "\n",
    "            ax.set_title(f\"{preds[j]} ({labels[j]})\", color=label_color)\n",
    "\n",
    "        # Break after displaying 20 images\n",
    "        if i == 3:\n",
    "            break\n",
    "\n",
    "    plt.tight_layout()\n",
    "    plt.show()"
   ]
  },
  {
   "cell_type": "code",
   "execution_count": 139,
   "metadata": {},
   "outputs": [
    {
     "data": {
      "image/png": "[encoded data removed]",
      "text/plain": [
       "<Figure size 864x576 with 15 Axes>"
      ]
     },
     "metadata": {
      "needs_background": "light"
     },
     "output_type": "display_data"
    }
   ],
   "source": [
    "visualize_sample_results(model, test_loader, device)"
   ]
  },
  {
   "cell_type": "markdown",
   "metadata": {},
   "source": [
    "## Improving your model\n",
    "\n",
    "Once your model is done training, try tweaking your hyperparameters and training again below to improve your accuracy on the test set!"
   ]
  },
  {
   "cell_type": "code",
   "execution_count": 35,
   "metadata": {},
   "outputs": [],
   "source": [
    "# Define the transformation\n",
    "transform = transforms.Compose([\n",
    "    transforms.Resize((28, 28)),\n",
    "    transforms.ToTensor()\n",
    "])\n",
    "\n",
    "# Apply the transformation to the dataset\n",
    "train_data = datasets.MNIST(root='data', train=True, download=True, transform=transform)"
   ]
  },
  {
   "cell_type": "markdown",
   "metadata": {},
   "source": [
    "In this upgraded architecture, I have replaced the fully connected layers with convolutional layers to leverage the spatial information in the images. The model consists of three convolutional layers with increasing depth, followed by max pooling layers to downsample the feature maps. The output of the convolutional layers is flattened and passed through fully connected layers to perform classification. Dropout layers are added for regularization. These modifications allow the model to capture more complex patterns and improve performance and accuracy on image classification tasks."
   ]
  },
  {
   "cell_type": "code",
   "execution_count": 36,
   "metadata": {},
   "outputs": [
    {
     "name": "stdout",
     "output_type": "stream",
     "text": [
      "CustomNetwork(\n",
      "  (conv1): Conv2d(1, 32, kernel_size=(3, 3), stride=(1, 1), padding=(1, 1))\n",
      "  (conv2): Conv2d(32, 64, kernel_size=(3, 3), stride=(1, 1), padding=(1, 1))\n",
      "  (conv3): Conv2d(64, 128, kernel_size=(3, 3), stride=(1, 1), padding=(1, 1))\n",
      "  (maxpool): MaxPool2d(kernel_size=2, stride=2, padding=0, dilation=1, ceil_mode=False)\n",
      "  (fc1): Linear(in_features=1152, out_features=512, bias=True)\n",
      "  (fc2): Linear(in_features=512, out_features=256, bias=True)\n",
      "  (fc3): Linear(in_features=256, out_features=10, bias=True)\n",
      "  (dropout): Dropout(p=0.5, inplace=False)\n",
      ")\n"
     ]
    }
   ],
   "source": [
    "class CustomNetwork(nn.Module):\n",
    "    \"\"\"Custom neural network architecture for image classification.\n",
    "\n",
    "    This network consists of multiple convolutional layers followed by fully connected layers.\n",
    "    The input size is expected to be 28x28 pixels.\n",
    "    \"\"\"\n",
    "\n",
    "    def __init__(self):\n",
    "        super(CustomNetwork, self).__init__()\n",
    "\n",
    "        # Convolutional layers\n",
    "        self.conv1 = nn.Conv2d(1, 32, kernel_size=3, stride=1, padding=1)\n",
    "        self.conv2 = nn.Conv2d(32, 64, kernel_size=3, stride=1, padding=1)\n",
    "        self.conv3 = nn.Conv2d(64, 128, kernel_size=3, stride=1, padding=1)\n",
    "\n",
    "        # Max pooling layer\n",
    "        self.maxpool = nn.MaxPool2d(kernel_size=2, stride=2)\n",
    "\n",
    "        # Fully connected layers\n",
    "        self.fc1 = nn.Linear(128 * 3 * 3, 512)  # Adjust the input size here\n",
    "        self.fc2 = nn.Linear(512, 256)\n",
    "        self.fc3 = nn.Linear(256, 10)\n",
    "        self.dropout = nn.Dropout(0.5)\n",
    "\n",
    "    def forward(self, x):\n",
    "        \"\"\"Defines the forward pass of the neural network.\n",
    "\n",
    "        Args:\n",
    "            x (torch.Tensor): Input tensor of shape (batch_size, 1, 28, 28).\n",
    "\n",
    "        Returns:\n",
    "            torch.Tensor: Output tensor of shape (batch_size, 10) representing class scores.\n",
    "        \"\"\"\n",
    "        x = F.relu(self.conv1(x))\n",
    "        x = self.maxpool(x)\n",
    "        x = F.relu(self.conv2(x))\n",
    "        x = self.maxpool(x)\n",
    "        x = F.relu(self.conv3(x))\n",
    "        x = self.maxpool(x)\n",
    "        x = x.view(x.size(0), -1)  # Reshape to (batch_size, num_features)\n",
    "        x = F.relu(self.fc1(x))\n",
    "        x = self.dropout(x)\n",
    "        x = F.relu(self.fc2(x))\n",
    "        x = self.dropout(x)\n",
    "        x = self.fc3(x)\n",
    "        return x\n",
    "\n",
    "# Create an instance of the network\n",
    "model = CustomNetwork()\n",
    "print(model)"
   ]
  },
  {
   "cell_type": "code",
   "execution_count": 37,
   "metadata": {},
   "outputs": [
    {
     "name": "stdout",
     "output_type": "stream",
     "text": [
      "Epoch [1/20], Batch [250/938], Loss: 2.3007\n",
      "Epoch [1/20], Batch [500/938], Loss: 2.2980\n",
      "Epoch [1/20], Batch [750/938], Loss: 2.2944\n",
      "Epoch [1/20], Average Loss: 2.2887\n",
      "Epoch [2/20], Batch [250/938], Loss: 2.2808\n",
      "Epoch [2/20], Batch [500/938], Loss: 2.2099\n",
      "Epoch [2/20], Batch [750/938], Loss: 1.7547\n",
      "Epoch [2/20], Average Loss: 1.0713\n",
      "Epoch [3/20], Batch [250/938], Loss: 0.9391\n",
      "Epoch [3/20], Batch [500/938], Loss: 0.6539\n",
      "Epoch [3/20], Batch [750/938], Loss: 0.5180\n",
      "Epoch [3/20], Average Loss: 0.3858\n",
      "Epoch [4/20], Batch [250/938], Loss: 0.3712\n",
      "Epoch [4/20], Batch [500/938], Loss: 0.3115\n",
      "Epoch [4/20], Batch [750/938], Loss: 0.2680\n",
      "Epoch [4/20], Average Loss: 0.2254\n",
      "Epoch [5/20], Batch [250/938], Loss: 0.2265\n",
      "Epoch [5/20], Batch [500/938], Loss: 0.2072\n",
      "Epoch [5/20], Batch [750/938], Loss: 0.1883\n",
      "Epoch [5/20], Average Loss: 0.1636\n",
      "Epoch [6/20], Batch [250/938], Loss: 0.1683\n",
      "Epoch [6/20], Batch [500/938], Loss: 0.1565\n",
      "Epoch [6/20], Batch [750/938], Loss: 0.1508\n",
      "Epoch [6/20], Average Loss: 0.1397\n",
      "Epoch [7/20], Batch [250/938], Loss: 0.1407\n",
      "Epoch [7/20], Batch [500/938], Loss: 0.1313\n",
      "Epoch [7/20], Batch [750/938], Loss: 0.1332\n",
      "Epoch [7/20], Average Loss: 0.1203\n",
      "Epoch [8/20], Batch [250/938], Loss: 0.1242\n",
      "Epoch [8/20], Batch [500/938], Loss: 0.1120\n",
      "Epoch [8/20], Batch [750/938], Loss: 0.1151\n",
      "Epoch [8/20], Average Loss: 0.1058\n",
      "Epoch [9/20], Batch [250/938], Loss: 0.1064\n",
      "Epoch [9/20], Batch [500/938], Loss: 0.1022\n",
      "Epoch [9/20], Batch [750/938], Loss: 0.1036\n",
      "Epoch [9/20], Average Loss: 0.0929\n",
      "Epoch [10/20], Batch [250/938], Loss: 0.0943\n",
      "Epoch [10/20], Batch [500/938], Loss: 0.0954\n",
      "Epoch [10/20], Batch [750/938], Loss: 0.0922\n",
      "Epoch [10/20], Average Loss: 0.0904\n",
      "Epoch [11/20], Batch [250/938], Loss: 0.0914\n",
      "Epoch [11/20], Batch [500/938], Loss: 0.0843\n",
      "Epoch [11/20], Batch [750/938], Loss: 0.0871\n",
      "Epoch [11/20], Average Loss: 0.0853\n",
      "Epoch [12/20], Batch [250/938], Loss: 0.0844\n",
      "Epoch [12/20], Batch [500/938], Loss: 0.0764\n",
      "Epoch [12/20], Batch [750/938], Loss: 0.0853\n",
      "Epoch [12/20], Average Loss: 0.0800\n",
      "Epoch [13/20], Batch [250/938], Loss: 0.0790\n",
      "Epoch [13/20], Batch [500/938], Loss: 0.0737\n",
      "Epoch [13/20], Batch [750/938], Loss: 0.0788\n",
      "Epoch [13/20], Average Loss: 0.0681\n",
      "Epoch [14/20], Batch [250/938], Loss: 0.0709\n",
      "Epoch [14/20], Batch [500/938], Loss: 0.0707\n",
      "Epoch [14/20], Batch [750/938], Loss: 0.0736\n",
      "Epoch [14/20], Average Loss: 0.0678\n",
      "Epoch [15/20], Batch [250/938], Loss: 0.0667\n",
      "Epoch [15/20], Batch [500/938], Loss: 0.0675\n",
      "Epoch [15/20], Batch [750/938], Loss: 0.0707\n",
      "Epoch [15/20], Average Loss: 0.0609\n",
      "Epoch [16/20], Batch [250/938], Loss: 0.0641\n",
      "Epoch [16/20], Batch [500/938], Loss: 0.0616\n",
      "Epoch [16/20], Batch [750/938], Loss: 0.0646\n",
      "Epoch [16/20], Average Loss: 0.0607\n",
      "Epoch [17/20], Batch [250/938], Loss: 0.0623\n",
      "Epoch [17/20], Batch [500/938], Loss: 0.0550\n",
      "Epoch [17/20], Batch [750/938], Loss: 0.0663\n",
      "Epoch [17/20], Average Loss: 0.0606\n",
      "Epoch [18/20], Batch [250/938], Loss: 0.0602\n",
      "Epoch [18/20], Batch [500/938], Loss: 0.0548\n",
      "Epoch [18/20], Batch [750/938], Loss: 0.0609\n",
      "Epoch [18/20], Average Loss: 0.0526\n",
      "Epoch [19/20], Batch [250/938], Loss: 0.0556\n",
      "Epoch [19/20], Batch [500/938], Loss: 0.0515\n",
      "Epoch [19/20], Batch [750/938], Loss: 0.0567\n",
      "Epoch [19/20], Average Loss: 0.0526\n",
      "Epoch [20/20], Batch [250/938], Loss: 0.0545\n",
      "Epoch [20/20], Batch [500/938], Loss: 0.0492\n",
      "Epoch [20/20], Batch [750/938], Loss: 0.0549\n",
      "Epoch [20/20], Average Loss: 0.0480\n",
      "Training completed!\n"
     ]
    }
   ],
   "source": [
    "# Define the device (GPU or CPU)\n",
    "device = torch.device(\"cuda\" if torch.cuda.is_available() else \"cpu\")\n",
    "\n",
    "# Move the model to the device\n",
    "model = model.to(device)\n",
    "\n",
    "# Define the loss function\n",
    "criterion = nn.CrossEntropyLoss()\n",
    "\n",
    "# Define the optimizer\n",
    "optimizer = torch.optim.SGD(model.parameters(), lr=0.01)\n",
    "\n",
    "# Training loop\n",
    "num_epochs = 20\n",
    "print_freq = 250\n",
    "total_loss = 0\n",
    "total_batches = 0\n",
    "train_loss_list = []  # Initialize a list to store training loss\n",
    "\n",
    "for epoch in range(num_epochs):\n",
    "    for i, (inputs, labels) in enumerate(train_loader):\n",
    "        inputs = inputs.to(device)\n",
    "        labels = labels.to(device)\n",
    "\n",
    "        # Zero the gradients\n",
    "        optimizer.zero_grad()\n",
    "\n",
    "        # Forward pass\n",
    "        outputs = model(inputs)\n",
    "        loss = criterion(outputs, labels)\n",
    "\n",
    "        # Backward pass and optimization\n",
    "        loss.backward()\n",
    "        optimizer.step()\n",
    "\n",
    "        # Record the loss\n",
    "        total_loss += loss.item()\n",
    "        total_batches += 1\n",
    "\n",
    "        # Print loss at specified intervals\n",
    "        if (i + 1) % print_freq == 0:\n",
    "            avg_loss = total_loss / total_batches\n",
    "            print(f\"Epoch [{epoch + 1}/{num_epochs}], Batch [{i + 1}/{len(train_loader)}], Loss: {avg_loss:.4f}\")\n",
    "            total_loss = 0\n",
    "            total_batches = 0\n",
    "\n",
    "    # Calculate average epoch loss\n",
    "    avg_epoch_loss = total_loss / total_batches\n",
    "    train_loss_list.append(avg_epoch_loss)\n",
    "\n",
    "    print(f\"Epoch [{epoch + 1}/{num_epochs}], Average Loss: {avg_epoch_loss:.4f}\")\n",
    "\n",
    "print(\"Training completed!\")"
   ]
  },
  {
   "cell_type": "markdown",
   "metadata": {},
   "source": [
    "## Testing your model\n",
    "Using the previously created `DataLoader` for the test set, compute the percentage of correct predictions using the highest probability prediction. \n",
    "\n",
    "If your accuracy is over 90%, great work, but see if you can push a bit further! \n",
    "If your accuracy is under 90%, you'll need to make improvements.\n",
    "Go back and check your model architecture, loss function, and optimizer to make sure they're appropriate for an image classification task."
   ]
  },
  {
   "cell_type": "code",
   "execution_count": 39,
   "metadata": {},
   "outputs": [
    {
     "name": "stdout",
     "output_type": "stream",
     "text": [
      "Test Loss: 0.035016\n",
      "\n",
      "Test Accuracy of 0: 99.39% (974/980)\n",
      "Test Accuracy of 1: 99.91% (1134/1135)\n",
      "Test Accuracy of 2: 98.84% (1020/1032)\n",
      "Test Accuracy of 3: 99.01% (1000/1010)\n",
      "Test Accuracy of 4: 99.29% (975/982)\n",
      "Test Accuracy of 5: 99.33% (886/892)\n",
      "Test Accuracy of 6: 98.12% (940/958)\n",
      "Test Accuracy of 7: 98.74% (1015/1028)\n",
      "Test Accuracy of 8: 98.46% (959/974)\n",
      "Test Accuracy of 9: 97.32% (982/1009)\n",
      "\n",
      "Test Accuracy (Overall): 98.85% (9885/10000)\n"
     ]
    }
   ],
   "source": [
    "## YOUR CODE HERE ##\n",
    "\n",
    "# Initialize variables to monitor test loss and accuracy\n",
    "test_loss = 0.0\n",
    "correct = 0\n",
    "total = 0\n",
    "class_correct = [0] * 10\n",
    "class_total = [0] * 10\n",
    "\n",
    "model.eval()  # Set the model to evaluation mode\n",
    "\n",
    "# Disable gradient calculation and enable faster computation\n",
    "with torch.no_grad():\n",
    "    for data, target in test_loader:\n",
    "        data = data.to(device)\n",
    "        target = target.to(device)\n",
    "\n",
    "        # Forward pass: compute predicted outputs by passing inputs to the model\n",
    "        output = model(data)\n",
    "\n",
    "        # Calculate the loss\n",
    "        loss = criterion(output, target)\n",
    "\n",
    "        # Update test loss\n",
    "        test_loss += loss.item() * data.size(0)\n",
    "\n",
    "        # Convert output probabilities to predicted class\n",
    "        _, predicted = torch.max(output, 1)\n",
    "\n",
    "        # Update total examples and correct predictions\n",
    "        total += target.size(0)\n",
    "        correct += (predicted == target).sum().item()\n",
    "\n",
    "        # Calculate test accuracy for each object class\n",
    "        for i in range(target.size(0)):\n",
    "            label = target[i]\n",
    "            class_correct[label] += (predicted[i] == label).item()\n",
    "            class_total[label] += 1\n",
    "\n",
    "# Calculate and print average test loss\n",
    "test_loss /= total\n",
    "print(f\"Test Loss: {test_loss:.6f}\\n\")\n",
    "\n",
    "# Print test accuracy for each object class\n",
    "for i in range(10):\n",
    "    if class_total[i] > 0:\n",
    "        accuracy = 100 * class_correct[i] / class_total[i]\n",
    "        print(f\"Test Accuracy of {i}: {accuracy:.2f}% ({class_correct[i]}/{class_total[i]})\")\n",
    "    else:\n",
    "        print(f\"Test Accuracy of {i}: N/A (no training examples)\")\n",
    "\n",
    "# Print overall test accuracy\n",
    "overall_accuracy = 100 * correct / total\n",
    "print(f\"\\nTest Accuracy (Overall): {overall_accuracy:.2f}% ({correct}/{total})\")"
   ]
  },
  {
   "cell_type": "markdown",
   "metadata": {},
   "source": [
    "## Saving your model\n",
    "Using `torch.save`, save your model for future loading."
   ]
  },
  {
   "cell_type": "code",
   "execution_count": 40,
   "metadata": {},
   "outputs": [
    {
     "name": "stdout",
     "output_type": "stream",
     "text": [
      "Model saved successfully.\n"
     ]
    }
   ],
   "source": [
    "## YOUR CODE HERE ##\n",
    "\n",
    "# Specify the file path for saving the model\n",
    "model_path = 'model.pt'\n",
    "\n",
    "# Save the model state dictionary and other necessary information\n",
    "torch.save({\n",
    "    'model_state_dict': model.state_dict(),\n",
    "    'optimizer_state_dict': optimizer.state_dict(),\n",
    "    'train_loss_list': train_loss_list\n",
    "}, model_path)\n",
    "\n",
    "print(\"Model saved successfully.\")"
   ]
  }
 ],
 "metadata": {
  "kernelspec": {
   "display_name": "Python 3",
   "language": "python",
   "name": "python3"
  },
  "language_info": {
   "codemirror_mode": {
    "name": "ipython",
    "version": 3
   },
   "file_extension": ".py",
   "mimetype": "text/x-python",
   "name": "python",
   "nbconvert_exporter": "python",
   "pygments_lexer": "ipython3",
   "version": "3.7.6"
  }
 },
 "nbformat": 4,
 "nbformat_minor": 4
}
